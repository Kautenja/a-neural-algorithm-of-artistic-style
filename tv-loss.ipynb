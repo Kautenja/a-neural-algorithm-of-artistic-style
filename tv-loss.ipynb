{
 "cells": [
  {
   "cell_type": "markdown",
   "metadata": {},
   "source": [
    "# Total Variation Loss"
   ]
  },
  {
   "cell_type": "code",
   "execution_count": null,
   "metadata": {},
   "outputs": [],
   "source": [
    "import numpy as np\n",
    "np.random.seed(222)\n",
    "import tensorflow as tf\n",
    "tf.random.set_seed(222)\n",
    "from matplotlib import pyplot as plt\n",
    "%matplotlib inline\n",
    "import skimage.io as io\n",
    "import skimage.transform as T"
   ]
  },
  {
   "cell_type": "code",
   "execution_count": null,
   "metadata": {},
   "outputs": [],
   "source": [
    "from src.transfer_style import Stylizer\n",
    "from src.optimizers import GradientDescent, L_BFGS, Adam\n",
    "from src.util.callback import Callback"
   ]
  },
  {
   "cell_type": "code",
   "execution_count": null,
   "metadata": {},
   "outputs": [],
   "source": [
    "ITERATIONS = 30"
   ]
  },
  {
   "cell_type": "code",
   "execution_count": null,
   "metadata": {},
   "outputs": [],
   "source": [
    "plt.figure(figsize=(15, 7))\n",
    "plt.subplot(1, 2, 1)\n",
    "content = io.imread('img/content/tubingen.jpg')\n",
    "ax = plt.imshow(content)\n",
    "plt.title('Content Image $p$')\n",
    "ax.axes.xaxis.set_major_locator(plt.NullLocator())\n",
    "ax.axes.yaxis.set_major_locator(plt.NullLocator())\n",
    "plt.subplot(1, 2, 2)\n",
    "style = io.imread('img/styles/composition-vii.jpg')\n",
    "style = T.resize(style, content.shape[:-1], preserve_range=True).astype('uint8')\n",
    "ax = plt.imshow(style)\n",
    "plt.title('Style Image $a$')\n",
    "ax.axes.xaxis.set_major_locator(plt.NullLocator())\n",
    "ax.axes.yaxis.set_major_locator(plt.NullLocator())"
   ]
  },
  {
   "cell_type": "markdown",
   "metadata": {},
   "source": [
    "## TV loss = $0$"
   ]
  },
  {
   "cell_type": "code",
   "execution_count": null,
   "metadata": {},
   "outputs": [],
   "source": [
    "output = Stylizer(content_weight=1, style_weight=1e4)(\n",
    "    content=content,\n",
    "    style=style,\n",
    "    optimize=L_BFGS(max_evaluations=20),\n",
    "    iterations=ITERATIONS,\n",
    "    callback=Callback('build/tv/0')\n",
    ")\n",
    "io.imsave('img/tv/0.jpg', output)"
   ]
  },
  {
   "cell_type": "markdown",
   "metadata": {},
   "source": [
    "## TV loss = $1$"
   ]
  },
  {
   "cell_type": "code",
   "execution_count": null,
   "metadata": {},
   "outputs": [],
   "source": [
    "output = Stylizer(content_weight=1, style_weight=1e4, total_variation_weight=1)(\n",
    "    content=content,\n",
    "    style=style,\n",
    "    optimize=L_BFGS(max_evaluations=20),\n",
    "    iterations=ITERATIONS,\n",
    "    callback=Callback('build/tv/1')\n",
    ")\n",
    "io.imsave('img/tv/1.jpg', output)"
   ]
  },
  {
   "cell_type": "markdown",
   "metadata": {},
   "source": [
    "## TV loss = $10$"
   ]
  },
  {
   "cell_type": "code",
   "execution_count": null,
   "metadata": {},
   "outputs": [],
   "source": [
    "output = Stylizer(content_weight=1, style_weight=1e4, total_variation_weight=10)(\n",
    "    content=content,\n",
    "    style=style,\n",
    "    optimize=L_BFGS(max_evaluations=20),\n",
    "    iterations=ITERATIONS,\n",
    "    callback=Callback('build/tv/10')\n",
    ")\n",
    "io.imsave('img/tv/10.jpg', output)"
   ]
  },
  {
   "cell_type": "markdown",
   "metadata": {},
   "source": [
    "## TV loss = $100$"
   ]
  },
  {
   "cell_type": "code",
   "execution_count": null,
   "metadata": {},
   "outputs": [],
   "source": [
    "output = Stylizer(content_weight=1, style_weight=1e4, total_variation_weight=100)(\n",
    "    content=content,\n",
    "    style=style,\n",
    "    optimize=L_BFGS(max_evaluations=20),\n",
    "    iterations=ITERATIONS,\n",
    "    callback=Callback('build/tv/100')\n",
    ")\n",
    "io.imsave('img/tv/100.jpg', output)"
   ]
  },
  {
   "cell_type": "markdown",
   "metadata": {},
   "source": [
    "## TV loss = $1000$"
   ]
  },
  {
   "cell_type": "code",
   "execution_count": null,
   "metadata": {},
   "outputs": [],
   "source": [
    "output = Stylizer(content_weight=1, style_weight=1e4, total_variation_weight=1000)(\n",
    "    content=content,\n",
    "    style=style,\n",
    "    optimize=L_BFGS(max_evaluations=20),\n",
    "    iterations=ITERATIONS,\n",
    "    callback=Callback('build/tv/1000')\n",
    ")\n",
    "io.imsave('img/tv/1000.jpg', output)"
   ]
  },
  {
   "cell_type": "markdown",
   "metadata": {},
   "source": [
    " "
   ]
  }
 ],
 "metadata": {
  "kernelspec": {
   "display_name": "Python 3",
   "language": "python",
   "name": "python3"
  },
  "language_info": {
   "codemirror_mode": {
    "name": "ipython",
    "version": 3
   },
   "file_extension": ".py",
   "mimetype": "text/x-python",
   "name": "python",
   "nbconvert_exporter": "python",
   "pygments_lexer": "ipython3",
   "version": "3.8.5"
  },
  "toc": {
   "base_numbering": 1,
   "nav_menu": {},
   "number_sections": true,
   "sideBar": true,
   "skip_h1_title": false,
   "title_cell": "Table of Contents",
   "title_sidebar": "Contents",
   "toc_cell": false,
   "toc_position": {},
   "toc_section_display": true,
   "toc_window_display": false
  }
 },
 "nbformat": 4,
 "nbformat_minor": 2
}
