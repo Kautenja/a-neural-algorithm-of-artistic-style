{
 "cells": [
  {
   "cell_type": "markdown",
   "metadata": {},
   "source": [
    "# Visualization of all 5 Gatys et al. Style Layer Sets\n",
    "\n",
    "Visualize the result of minimizing style loss on white noise using various sets of activation maps (layers) in the network"
   ]
  },
  {
   "cell_type": "code",
   "execution_count": null,
   "metadata": {
    "scrolled": false
   },
   "outputs": [],
   "source": [
    "import numpy as np\n",
    "np.random.seed(222)\n",
    "import tensorflow as tf\n",
    "tf.random.set_seed(222)\n",
    "from matplotlib import pyplot as plt\n",
    "%matplotlib inline\n",
    "import skimage.io as io\n",
    "import skimage.transform as T"
   ]
  },
  {
   "cell_type": "code",
   "execution_count": null,
   "metadata": {},
   "outputs": [],
   "source": [
    "from neural_stylization.reconstruct_style import reconstruct_style\n",
    "from neural_stylization.optimizers import L_BFGS\n",
    "from neural_stylization.util.build_callback import build_callback"
   ]
  },
  {
   "cell_type": "markdown",
   "metadata": {},
   "source": [
    "## Style Image $\\textbf{a}$"
   ]
  },
  {
   "cell_type": "code",
   "execution_count": null,
   "metadata": {},
   "outputs": [],
   "source": [
    "style = io.imread('img/styles/the-starry-night.jpg')\n",
    "style = T.resize(style, (768, 1024), preserve_range=True).astype('uint8')\n",
    "ax = plt.imshow(style)\n",
    "ax.axes.xaxis.set_major_locator(plt.NullLocator())\n",
    "ax.axes.yaxis.set_major_locator(plt.NullLocator())"
   ]
  },
  {
   "cell_type": "markdown",
   "metadata": {},
   "source": [
    "## White Noise Image $\\textbf{x}$"
   ]
  },
  {
   "cell_type": "code",
   "execution_count": null,
   "metadata": {},
   "outputs": [],
   "source": [
    "noise = np.random.uniform(0, 1, size=style.shape)\n",
    "ax = plt.imshow(noise)\n",
    "ax.axes.xaxis.set_major_locator(plt.NullLocator())\n",
    "ax.axes.yaxis.set_major_locator(plt.NullLocator())"
   ]
  },
  {
   "cell_type": "markdown",
   "metadata": {},
   "source": [
    "## `block1_conv1`"
   ]
  },
  {
   "cell_type": "code",
   "execution_count": null,
   "metadata": {
    "scrolled": false
   },
   "outputs": [],
   "source": [
    "block1_conv1 = reconstruct_style(\n",
    "    style=style,\n",
    "    layer_names=['block1_conv1'],\n",
    "    optimize=L_BFGS(),\n",
    "    iterations=50,\n",
    "    callback=build_callback('build/style/block1_conv1')\n",
    ")"
   ]
  },
  {
   "cell_type": "markdown",
   "metadata": {},
   "source": [
    "## `block2_conv1`"
   ]
  },
  {
   "cell_type": "code",
   "execution_count": null,
   "metadata": {},
   "outputs": [],
   "source": [
    "block2_conv1 = reconstruct_style(\n",
    "    style=style,\n",
    "    layer_names=['block1_conv1', 'block2_conv1'],\n",
    "    optimize=L_BFGS(),\n",
    "    iterations=50,\n",
    "    callback=build_callback('build/style/block2_conv1')\n",
    ")"
   ]
  },
  {
   "cell_type": "markdown",
   "metadata": {},
   "source": [
    "## `block3_conv1`"
   ]
  },
  {
   "cell_type": "code",
   "execution_count": null,
   "metadata": {},
   "outputs": [],
   "source": [
    "block3_conv1 = reconstruct_style(\n",
    "    style=style,\n",
    "    layer_names=['block1_conv1', 'block2_conv1', 'block3_conv1'],\n",
    "    optimize=L_BFGS(),\n",
    "    iterations=50,\n",
    "    callback=build_callback('build/style/block3_conv1')\n",
    ")"
   ]
  },
  {
   "cell_type": "markdown",
   "metadata": {},
   "source": [
    "## `block4_conv1`"
   ]
  },
  {
   "cell_type": "code",
   "execution_count": null,
   "metadata": {},
   "outputs": [],
   "source": [
    "block4_conv1 = reconstruct_style(\n",
    "    style=style,\n",
    "    layer_names=['block1_conv1', 'block2_conv1', 'block3_conv1', 'block4_conv1'],\n",
    "    optimize=L_BFGS(),\n",
    "    iterations=50,\n",
    "    callback=build_callback('build/style/block4_conv1')\n",
    ")"
   ]
  },
  {
   "cell_type": "markdown",
   "metadata": {},
   "source": [
    "## `block5_conv1`"
   ]
  },
  {
   "cell_type": "code",
   "execution_count": null,
   "metadata": {},
   "outputs": [],
   "source": [
    "block5_conv1 = reconstruct_style(\n",
    "    style=style,\n",
    "    layer_names=['block1_conv1', 'block2_conv1', 'block3_conv1', 'block4_conv1', 'block5_conv1'],\n",
    "    optimize=L_BFGS(),\n",
    "    iterations=50,\n",
    "    callback=build_callback('build/style/block5_conv1')\n",
    ")"
   ]
  },
  {
   "cell_type": "markdown",
   "metadata": {},
   "source": [
    "  "
   ]
  }
 ],
 "metadata": {
  "kernelspec": {
   "display_name": "Python 3",
   "language": "python",
   "name": "python3"
  },
  "language_info": {
   "codemirror_mode": {
    "name": "ipython",
    "version": 3
   },
   "file_extension": ".py",
   "mimetype": "text/x-python",
   "name": "python",
   "nbconvert_exporter": "python",
   "pygments_lexer": "ipython3",
   "version": "3.8.5"
  },
  "toc": {
   "base_numbering": 1,
   "nav_menu": {},
   "number_sections": true,
   "sideBar": true,
   "skip_h1_title": false,
   "title_cell": "Table of Contents",
   "title_sidebar": "Contents",
   "toc_cell": false,
   "toc_position": {},
   "toc_section_display": true,
   "toc_window_display": false
  }
 },
 "nbformat": 4,
 "nbformat_minor": 2
}
