{
 "cells": [
  {
   "cell_type": "markdown",
   "metadata": {},
   "source": [
    "# Optimizers"
   ]
  },
  {
   "cell_type": "code",
   "execution_count": null,
   "metadata": {
    "scrolled": true
   },
   "outputs": [],
   "source": [
    "import numpy as np\n",
    "np.random.seed(222)\n",
    "import tensorflow as tf\n",
    "tf.random.set_seed(222)\n",
    "from matplotlib import pyplot as plt\n",
    "%matplotlib inline\n",
    "import skimage.io as io\n",
    "import skimage.transform as T"
   ]
  },
  {
   "cell_type": "code",
   "execution_count": null,
   "metadata": {
    "scrolled": true
   },
   "outputs": [],
   "source": [
    "from src.transfer_style import Stylizer\n",
    "from src.optimizers import GradientDescent, Adam, L_BFGS\n",
    "from src.callback import Callback"
   ]
  },
  {
   "cell_type": "code",
   "execution_count": null,
   "metadata": {},
   "outputs": [],
   "source": [
    "plt.figure(figsize=(15, 7))\n",
    "plt.subplot(1, 2, 1)\n",
    "content = io.imread('img/content/tubingen.jpg')\n",
    "ax = plt.imshow(content)\n",
    "plt.title('Content Image $p$')\n",
    "ax.axes.xaxis.set_major_locator(plt.NullLocator())\n",
    "ax.axes.yaxis.set_major_locator(plt.NullLocator())\n",
    "plt.subplot(1, 2, 2)\n",
    "style = io.imread('img/styles/composition-vii.jpg')\n",
    "style = T.resize(style, content.shape[:-1], preserve_range=True).astype('uint8')\n",
    "ax = plt.imshow(style)\n",
    "plt.title('Style Noise Image $a$')\n",
    "ax.axes.xaxis.set_major_locator(plt.NullLocator())\n",
    "ax.axes.yaxis.set_major_locator(plt.NullLocator())"
   ]
  },
  {
   "cell_type": "code",
   "execution_count": null,
   "metadata": {},
   "outputs": [],
   "source": [
    "def stylize(optimizer, iterations: int):\n",
    "    \"\"\"\n",
    "    Stylize the image.\n",
    "    \n",
    "    Args:\n",
    "        optimizer: the optimizer method to use\n",
    "        iterations: the number of iterations to optimize\n",
    "        \n",
    "    Returns: a stylized image\n",
    "    \"\"\"\n",
    "    output = Stylizer(content_weight=1, style_weight=1e4)(\n",
    "        content=content,\n",
    "        style=style,\n",
    "        optimize=optimizer,\n",
    "        iterations=iterations,\n",
    "        callback=Callback('build/optimizers/{}'.format(optimizer.__class__.__name__))\n",
    "    )\n",
    "    io.imsave('img/optimizers/{}.jpg'.format(optimizer.__class__.__name__), output)"
   ]
  },
  {
   "cell_type": "code",
   "execution_count": null,
   "metadata": {},
   "outputs": [],
   "source": [
    "# the maximum number of times each optimizer is allowed to \n",
    "# evaluate the gradients before termination\n",
    "max_evaluations = 250"
   ]
  },
  {
   "cell_type": "code",
   "execution_count": null,
   "metadata": {},
   "outputs": [],
   "source": [
    "gd = GradientDescent(learning_rate=5e-7)\n",
    "stylize(gd, max_evaluations)"
   ]
  },
  {
   "cell_type": "code",
   "execution_count": null,
   "metadata": {},
   "outputs": [],
   "source": [
    "adam = Adam(learning_rate=1e2)\n",
    "stylize(adam, max_evaluations)"
   ]
  },
  {
   "cell_type": "code",
   "execution_count": null,
   "metadata": {},
   "outputs": [],
   "source": [
    "# L-BFGS has its own maximum evaluation per iteration setting\n",
    "lbfgs = L_BFGS(max_evaluations=20)\n",
    "stylize(lbfgs, max_evaluations // 20)"
   ]
  },
  {
   "cell_type": "code",
   "execution_count": null,
   "metadata": {},
   "outputs": [],
   "source": [
    "plt.plot(gd.loss_history)\n",
    "plt.plot(lbfgs.loss_history)\n",
    "plt.plot(adam.loss_history)\n",
    "plt.legend(['Gradient Descent', 'L-BFGS', 'Adam'])\n",
    "plt.ylabel('$L_{total}$')\n",
    "plt.xlabel('Gradient Evaluation')\n",
    "plt.savefig('img/optimizers/plot.png', bbox_inches='tight')"
   ]
  },
  {
   "cell_type": "markdown",
   "metadata": {},
   "source": [
    " "
   ]
  }
 ],
 "metadata": {
  "kernelspec": {
   "display_name": "Python 3",
   "language": "python",
   "name": "python3"
  },
  "language_info": {
   "codemirror_mode": {
    "name": "ipython",
    "version": 3
   },
   "file_extension": ".py",
   "mimetype": "text/x-python",
   "name": "python",
   "nbconvert_exporter": "python",
   "pygments_lexer": "ipython3",
   "version": "3.8.5"
  },
  "toc": {
   "base_numbering": 1,
   "nav_menu": {},
   "number_sections": true,
   "sideBar": true,
   "skip_h1_title": false,
   "title_cell": "Table of Contents",
   "title_sidebar": "Contents",
   "toc_cell": false,
   "toc_position": {},
   "toc_section_display": true,
   "toc_window_display": false
  }
 },
 "nbformat": 4,
 "nbformat_minor": 2
}
