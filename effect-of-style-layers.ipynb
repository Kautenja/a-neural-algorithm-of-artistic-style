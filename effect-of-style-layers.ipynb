{
 "cells": [
  {
   "cell_type": "markdown",
   "metadata": {},
   "source": [
    "# Style Layer Selection"
   ]
  },
  {
   "cell_type": "code",
   "execution_count": null,
   "metadata": {
    "scrolled": true
   },
   "outputs": [],
   "source": [
    "import numpy as np\n",
    "np.random.seed(222)\n",
    "import tensorflow as tf\n",
    "tf.random.set_seed(222)\n",
    "from matplotlib import pyplot as plt\n",
    "%matplotlib inline\n",
    "import skimage.io as io\n",
    "import skimage.transform as T"
   ]
  },
  {
   "cell_type": "code",
   "execution_count": null,
   "metadata": {
    "scrolled": true
   },
   "outputs": [],
   "source": [
    "from neural_stylization.transfer_style import Stylizer\n",
    "from neural_stylization.optimizers import GradientDescent, Adam, L_BFGS\n",
    "from neural_stylization.util.build_callback import build_callback"
   ]
  },
  {
   "cell_type": "code",
   "execution_count": null,
   "metadata": {},
   "outputs": [],
   "source": [
    "ITERATIONS = 30"
   ]
  },
  {
   "cell_type": "code",
   "execution_count": null,
   "metadata": {},
   "outputs": [],
   "source": [
    "content = io.imread('img/content/tubingen.jpg')\n",
    "content = T.rescale(content, (0.5, 0.5, 1), preserve_range=True).astype('uint8')\n",
    "ax = plt.imshow(content)\n",
    "ax.axes.xaxis.set_major_locator(plt.NullLocator())\n",
    "ax.axes.yaxis.set_major_locator(plt.NullLocator())"
   ]
  },
  {
   "cell_type": "code",
   "execution_count": null,
   "metadata": {},
   "outputs": [],
   "source": [
    "style = io.imread('img/styles/composition-vii.jpg')\n",
    "style = T.resize(style, content.shape[:-1], preserve_range=True).astype('uint8')\n",
    "ax = plt.imshow(style)\n",
    "ax.axes.xaxis.set_major_locator(plt.NullLocator())\n",
    "ax.axes.yaxis.set_major_locator(plt.NullLocator())"
   ]
  },
  {
   "cell_type": "code",
   "execution_count": null,
   "metadata": {},
   "outputs": [],
   "source": [
    "def stylize(iterations: int, style_layer_names: str):\n",
    "    \"\"\"\n",
    "    Stylize the image.\n",
    "    \n",
    "    Args:\n",
    "        iterations: the number of iterations to optimize\n",
    "        style_layer_names: the name of the style layers to use\n",
    "        \n",
    "    Returns: a stylized image\n",
    "    \"\"\"\n",
    "    img = Stylizer(content_weight=1, style_weight=1e4, style_layer_names=style_layer_names)(\n",
    "        content=content,\n",
    "        style=style,\n",
    "        optimize=L_BFGS(max_evaluations=20),\n",
    "        iterations=iterations,\n",
    "        callback=build_callback('build/style-layer-selection/{}'.format(style_layer_names[-1]))\n",
    "    )\n",
    "    io.imsave('img/layer-style/{}.png'.format(style_layer_names[-1]), img)"
   ]
  },
  {
   "cell_type": "code",
   "execution_count": null,
   "metadata": {},
   "outputs": [],
   "source": [
    "stylize(ITERATIONS, ['block1_conv1'])"
   ]
  },
  {
   "cell_type": "code",
   "execution_count": null,
   "metadata": {},
   "outputs": [],
   "source": [
    "stylize(ITERATIONS, ['block1_conv1', 'block2_conv1'])"
   ]
  },
  {
   "cell_type": "code",
   "execution_count": null,
   "metadata": {},
   "outputs": [],
   "source": [
    "stylize(ITERATIONS, ['block1_conv1', 'block2_conv1', 'block3_conv1'])"
   ]
  },
  {
   "cell_type": "code",
   "execution_count": null,
   "metadata": {},
   "outputs": [],
   "source": [
    "stylize(ITERATIONS, ['block1_conv1', 'block2_conv1', 'block3_conv1', 'block4_conv1'])"
   ]
  },
  {
   "cell_type": "code",
   "execution_count": null,
   "metadata": {},
   "outputs": [],
   "source": [
    "stylize(ITERATIONS, ['block1_conv1', 'block2_conv1', 'block3_conv1', 'block4_conv1', 'block5_conv1'])"
   ]
  },
  {
   "cell_type": "markdown",
   "metadata": {},
   "source": [
    " "
   ]
  }
 ],
 "metadata": {
  "kernelspec": {
   "display_name": "Python 3",
   "language": "python",
   "name": "python3"
  },
  "language_info": {
   "codemirror_mode": {
    "name": "ipython",
    "version": 3
   },
   "file_extension": ".py",
   "mimetype": "text/x-python",
   "name": "python",
   "nbconvert_exporter": "python",
   "pygments_lexer": "ipython3",
   "version": "3.8.5"
  },
  "toc": {
   "base_numbering": 1,
   "nav_menu": {},
   "number_sections": true,
   "sideBar": true,
   "skip_h1_title": false,
   "title_cell": "Table of Contents",
   "title_sidebar": "Contents",
   "toc_cell": false,
   "toc_position": {},
   "toc_section_display": true,
   "toc_window_display": false
  }
 },
 "nbformat": 4,
 "nbformat_minor": 2
}
