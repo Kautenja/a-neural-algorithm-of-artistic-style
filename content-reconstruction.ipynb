{
 "cells": [
  {
   "cell_type": "markdown",
   "metadata": {},
   "source": [
    "# Content Reconstruction by Layer"
   ]
  },
  {
   "cell_type": "code",
   "execution_count": null,
   "metadata": {},
   "outputs": [],
   "source": [
    "import numpy as np\n",
    "np.random.seed(222)\n",
    "import tensorflow as tf\n",
    "tf.random.set_seed(222)\n",
    "from matplotlib import pyplot as plt\n",
    "%matplotlib inline\n",
    "import skimage.io as io\n",
    "import skimage.transform as T"
   ]
  },
  {
   "cell_type": "code",
   "execution_count": null,
   "metadata": {},
   "outputs": [],
   "source": [
    "from src.reconstruct_content import reconstruct_content\n",
    "from src.optimizers import GradientDescent, Adam, L_BFGS\n",
    "from src.callback import Callback"
   ]
  },
  {
   "cell_type": "code",
   "execution_count": null,
   "metadata": {},
   "outputs": [],
   "source": [
    "ITERATIONS = 30"
   ]
  },
  {
   "cell_type": "code",
   "execution_count": null,
   "metadata": {},
   "outputs": [],
   "source": [
    "plt.figure(figsize=(15, 7))\n",
    "plt.subplot(1, 2, 1)\n",
    "content = io.imread('img/content/tubingen.jpg')\n",
    "ax = plt.imshow(content)\n",
    "plt.title('Content Image $p$')\n",
    "ax.axes.xaxis.set_major_locator(plt.NullLocator())\n",
    "ax.axes.yaxis.set_major_locator(plt.NullLocator())\n",
    "plt.subplot(1, 2, 2)\n",
    "noise = np.random.uniform(0, 1, size=content.shape)\n",
    "ax = plt.imshow(noise)\n",
    "plt.title('White Noise Image $x$')\n",
    "ax.axes.xaxis.set_major_locator(plt.NullLocator())\n",
    "ax.axes.yaxis.set_major_locator(plt.NullLocator())"
   ]
  },
  {
   "cell_type": "markdown",
   "metadata": {},
   "source": [
    "## `block1_conv1`"
   ]
  },
  {
   "cell_type": "code",
   "execution_count": null,
   "metadata": {},
   "outputs": [],
   "source": [
    "output = reconstruct_content(\n",
    "    content=content,\n",
    "    layer_name='block1_conv1',\n",
    "    optimize=L_BFGS(),\n",
    "    iterations=ITERATIONS,\n",
    "    callback=Callback('build/content/block1_conv1')\n",
    ")\n",
    "io.imsave('img/content-reconstruction/block1_conv1.jpg', output)"
   ]
  },
  {
   "cell_type": "markdown",
   "metadata": {},
   "source": [
    "## `block2_conv1`"
   ]
  },
  {
   "cell_type": "code",
   "execution_count": null,
   "metadata": {},
   "outputs": [],
   "source": [
    "output = reconstruct_content(\n",
    "    content=content,\n",
    "    layer_name='block2_conv1',\n",
    "    optimize=L_BFGS(),\n",
    "    iterations=ITERATIONS,\n",
    "    callback=Callback('build/content/block2_conv1')\n",
    ")\n",
    "io.imsave('img/content-reconstruction/block2_conv1.jpg', output)"
   ]
  },
  {
   "cell_type": "markdown",
   "metadata": {},
   "source": [
    "## `block3_conv1`"
   ]
  },
  {
   "cell_type": "code",
   "execution_count": null,
   "metadata": {},
   "outputs": [],
   "source": [
    "output = reconstruct_content(\n",
    "    content=content,\n",
    "    layer_name='block3_conv1',\n",
    "    optimize=L_BFGS(),\n",
    "    iterations=ITERATIONS,\n",
    "    callback=Callback('build/content/block3_conv1')\n",
    ")\n",
    "io.imsave('img/content-reconstruction/block3_conv1.jpg', output)"
   ]
  },
  {
   "cell_type": "markdown",
   "metadata": {},
   "source": [
    "## `block4_conv1`"
   ]
  },
  {
   "cell_type": "code",
   "execution_count": null,
   "metadata": {},
   "outputs": [],
   "source": [
    "output = reconstruct_content(\n",
    "    content=content,\n",
    "    layer_name='block4_conv1',\n",
    "    optimize=L_BFGS(),\n",
    "    iterations=ITERATIONS,\n",
    "    callback=Callback('build/content/block4_conv1')\n",
    ")\n",
    "io.imsave('img/content-reconstruction/block4_conv1.jpg', output)"
   ]
  },
  {
   "cell_type": "markdown",
   "metadata": {},
   "source": [
    "## `block5_conv1`"
   ]
  },
  {
   "cell_type": "code",
   "execution_count": null,
   "metadata": {},
   "outputs": [],
   "source": [
    "output = reconstruct_content(\n",
    "    content=content,\n",
    "    layer_name='block5_conv1',\n",
    "    optimize=L_BFGS(),\n",
    "    iterations=ITERATIONS,\n",
    "    callback=Callback('build/content/block5_conv1')\n",
    ")\n",
    "io.imsave('img/content-reconstruction/block5_conv1.jpg', output)"
   ]
  },
  {
   "cell_type": "markdown",
   "metadata": {},
   "source": [
    "## `block4_conv2`\n",
    "\n",
    "**Gatys et al. use `block4_conv2` as the final content representation.**"
   ]
  },
  {
   "cell_type": "code",
   "execution_count": null,
   "metadata": {
    "scrolled": true
   },
   "outputs": [],
   "source": [
    "output = reconstruct_content(\n",
    "    content=content,\n",
    "    layer_name='block4_conv2',\n",
    "    optimize=L_BFGS(),\n",
    "    iterations=ITERATIONS,\n",
    "    callback=Callback('build/content/block4_conv2')\n",
    ")\n",
    "io.imsave('img/content-reconstruction/block4_conv2.jpg', output)"
   ]
  },
  {
   "cell_type": "markdown",
   "metadata": {},
   "source": [
    "  "
   ]
  }
 ],
 "metadata": {
  "kernelspec": {
   "display_name": "Python 3",
   "language": "python",
   "name": "python3"
  },
  "language_info": {
   "codemirror_mode": {
    "name": "ipython",
    "version": 3
   },
   "file_extension": ".py",
   "mimetype": "text/x-python",
   "name": "python",
   "nbconvert_exporter": "python",
   "pygments_lexer": "ipython3",
   "version": "3.8.5"
  },
  "toc": {
   "base_numbering": 1,
   "nav_menu": {},
   "number_sections": true,
   "sideBar": true,
   "skip_h1_title": false,
   "title_cell": "Table of Contents",
   "title_sidebar": "Contents",
   "toc_cell": false,
   "toc_position": {},
   "toc_section_display": true,
   "toc_window_display": false
  }
 },
 "nbformat": 4,
 "nbformat_minor": 2
}
