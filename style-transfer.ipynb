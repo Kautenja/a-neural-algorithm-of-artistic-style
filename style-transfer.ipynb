{
 "cells": [
  {
   "cell_type": "markdown",
   "metadata": {},
   "source": [
    "# Style Transfer"
   ]
  },
  {
   "cell_type": "code",
   "execution_count": null,
   "metadata": {},
   "outputs": [],
   "source": [
    "import numpy as np\n",
    "np.random.seed(222)\n",
    "import tensorflow as tf\n",
    "tf.random.set_seed(222)\n",
    "from matplotlib import pyplot as plt\n",
    "%matplotlib inline\n",
    "import skimage.io as io\n",
    "import skimage.transform as T"
   ]
  },
  {
   "cell_type": "code",
   "execution_count": null,
   "metadata": {
    "scrolled": true
   },
   "outputs": [],
   "source": [
    "from neural_stylization.transfer_style import Stylizer\n",
    "from neural_stylization.optimizers import GradientDescent, L_BFGS, Adam\n",
    "from neural_stylization.util.callback import Callback"
   ]
  },
  {
   "cell_type": "code",
   "execution_count": null,
   "metadata": {},
   "outputs": [],
   "source": [
    "ITERATIONS = 50"
   ]
  },
  {
   "cell_type": "code",
   "execution_count": null,
   "metadata": {
    "scrolled": false
   },
   "outputs": [],
   "source": [
    "content = io.imread('img/content/tubingen.jpg')\n",
    "ax = plt.imshow(content)\n",
    "ax.axes.xaxis.set_major_locator(plt.NullLocator())\n",
    "ax.axes.yaxis.set_major_locator(plt.NullLocator())"
   ]
  },
  {
   "cell_type": "markdown",
   "metadata": {},
   "source": [
    "## Pablo Picasso's _Seated Nude_"
   ]
  },
  {
   "cell_type": "code",
   "execution_count": null,
   "metadata": {},
   "outputs": [],
   "source": [
    "style = io.imread('img/styles/seated-nude.jpg')\n",
    "style = np.swapaxes(style, 1, 0)\n",
    "style = T.resize(style, content.shape[:-1], preserve_range=True).astype('uint8')\n",
    "ax = plt.imshow(style)\n",
    "ax.axes.xaxis.set_major_locator(plt.NullLocator())\n",
    "ax.axes.yaxis.set_major_locator(plt.NullLocator())"
   ]
  },
  {
   "cell_type": "code",
   "execution_count": null,
   "metadata": {
    "scrolled": false
   },
   "outputs": [],
   "source": [
    "output = Stylizer(content_weight=1, style_weight=1e4)(\n",
    "    content=content,\n",
    "    style=style,\n",
    "    optimize=L_BFGS(max_evaluations=20),\n",
    "    iterations=ITERATIONS,\n",
    "    callback=Callback('build/transfer/seated-nude')\n",
    ")\n",
    "io.imsave('img/transfer/seated-nude.jpg', output)"
   ]
  },
  {
   "cell_type": "markdown",
   "metadata": {},
   "source": [
    "## Vincent van Gogh's _The Starry Night_"
   ]
  },
  {
   "cell_type": "code",
   "execution_count": null,
   "metadata": {},
   "outputs": [],
   "source": [
    "style = io.imread('img/styles/the-starry-night.jpg')\n",
    "style = T.resize(style, content.shape[:-1], preserve_range=True).astype('uint8')\n",
    "ax = plt.imshow(style)\n",
    "ax.axes.xaxis.set_major_locator(plt.NullLocator())\n",
    "ax.axes.yaxis.set_major_locator(plt.NullLocator())"
   ]
  },
  {
   "cell_type": "code",
   "execution_count": null,
   "metadata": {},
   "outputs": [],
   "source": [
    "output = Stylizer(content_weight=1, style_weight=2e4)(\n",
    "    content=content,\n",
    "    style=style,\n",
    "    optimize=L_BFGS(max_evaluations=20),\n",
    "    iterations=30,\n",
    "    callback=Callback('build/transfer/the-starry-night')\n",
    ")\n",
    "io.imsave('img/transfer/the-starry-night.jpg', output)"
   ]
  },
  {
   "cell_type": "markdown",
   "metadata": {},
   "source": [
    "## Edvard Munch's _The Scream_"
   ]
  },
  {
   "cell_type": "code",
   "execution_count": null,
   "metadata": {},
   "outputs": [],
   "source": [
    "style = io.imread('img/styles/the-scream.jpg')\n",
    "style = np.swapaxes(style, 1, 0)\n",
    "style = T.resize(style, content.shape[:-1], preserve_range=True).astype('uint8')\n",
    "ax = plt.imshow(style)\n",
    "ax.axes.xaxis.set_major_locator(plt.NullLocator())\n",
    "ax.axes.yaxis.set_major_locator(plt.NullLocator())"
   ]
  },
  {
   "cell_type": "code",
   "execution_count": null,
   "metadata": {
    "scrolled": false
   },
   "outputs": [],
   "source": [
    "output = Stylizer(content_weight=1, style_weight=1e4)(\n",
    "    content=content,\n",
    "    style=style,\n",
    "    optimize=L_BFGS(max_evaluations=20),\n",
    "    iterations=ITERATIONS,\n",
    "    callback=Callback('build/transfer/the-scream')\n",
    ")\n",
    "io.imsave('img/transfer/the-scream.jpg', output)"
   ]
  },
  {
   "cell_type": "markdown",
   "metadata": {},
   "source": [
    "## William Turner's _The Shipwreck of The Minotaur_"
   ]
  },
  {
   "cell_type": "code",
   "execution_count": null,
   "metadata": {},
   "outputs": [],
   "source": [
    "style = io.imread('img/styles/the-shipwreck-of-the-minotaur.jpg')\n",
    "style = T.resize(style, content.shape[:-1], preserve_range=True).astype('uint8')\n",
    "ax = plt.imshow(style)\n",
    "ax.axes.xaxis.set_major_locator(plt.NullLocator())\n",
    "ax.axes.yaxis.set_major_locator(plt.NullLocator())"
   ]
  },
  {
   "cell_type": "code",
   "execution_count": null,
   "metadata": {
    "scrolled": false
   },
   "outputs": [],
   "source": [
    "output = Stylizer(content_weight=1, style_weight=1e4)(\n",
    "    content=content,\n",
    "    style=style,\n",
    "    optimize=L_BFGS(max_evaluations=20),\n",
    "    iterations=ITERATIONS,\n",
    "    callback=Callback('build/transfer/the-shipwreck-of-the-minotaur')\n",
    ")\n",
    "io.imsave('img/transfer/the-shipwreck-of-the-minotaur.jpg', output)"
   ]
  },
  {
   "cell_type": "markdown",
   "metadata": {},
   "source": [
    "## Kandinsky's _Composition VII_"
   ]
  },
  {
   "cell_type": "code",
   "execution_count": null,
   "metadata": {},
   "outputs": [],
   "source": [
    "style = io.imread('img/styles/composition-vii.jpg')\n",
    "style = T.resize(style, content.shape[:-1], preserve_range=True).astype('uint8')\n",
    "ax = plt.imshow(style)\n",
    "ax.axes.xaxis.set_major_locator(plt.NullLocator())\n",
    "ax.axes.yaxis.set_major_locator(plt.NullLocator())"
   ]
  },
  {
   "cell_type": "code",
   "execution_count": null,
   "metadata": {
    "scrolled": false
   },
   "outputs": [],
   "source": [
    "output = Stylizer(content_weight=1, style_weight=1e4)(\n",
    "    content=content,\n",
    "    style=style,\n",
    "    optimize=L_BFGS(max_evaluations=20),\n",
    "    iterations=ITERATIONS,\n",
    "    callback=Callback('build/transfer/composition-vii')\n",
    ")\n",
    "io.imsave('img/transfer/composition-vii.jpg', output)"
   ]
  },
  {
   "cell_type": "markdown",
   "metadata": {},
   "source": [
    "## Claude Monet's _Houses of Parliament_"
   ]
  },
  {
   "cell_type": "code",
   "execution_count": null,
   "metadata": {},
   "outputs": [],
   "source": [
    "style = io.imread('img/styles/houses-of-parliament.jpg')\n",
    "style = T.resize(style, content.shape[:-1], preserve_range=True).astype('uint8')\n",
    "ax = plt.imshow(style)\n",
    "ax.axes.xaxis.set_major_locator(plt.NullLocator())\n",
    "ax.axes.yaxis.set_major_locator(plt.NullLocator())"
   ]
  },
  {
   "cell_type": "code",
   "execution_count": null,
   "metadata": {},
   "outputs": [],
   "source": [
    "output = Stylizer(content_weight=1, style_weight=1e4)(\n",
    "    content=content,\n",
    "    style=style,\n",
    "    optimize=L_BFGS(max_evaluations=20),\n",
    "    iterations=ITERATIONS,\n",
    "    callback=Callback('build/transfer/houses-of-parliament')\n",
    ")\n",
    "io.imsave('img/transfer/houses-of-parliament.jpg', output)"
   ]
  },
  {
   "cell_type": "markdown",
   "metadata": {},
   "source": [
    " "
   ]
  }
 ],
 "metadata": {
  "kernelspec": {
   "display_name": "Python 3",
   "language": "python",
   "name": "python3"
  },
  "language_info": {
   "codemirror_mode": {
    "name": "ipython",
    "version": 3
   },
   "file_extension": ".py",
   "mimetype": "text/x-python",
   "name": "python",
   "nbconvert_exporter": "python",
   "pygments_lexer": "ipython3",
   "version": "3.8.5"
  },
  "toc": {
   "base_numbering": 1,
   "nav_menu": {},
   "number_sections": true,
   "sideBar": true,
   "skip_h1_title": false,
   "title_cell": "Table of Contents",
   "title_sidebar": "Contents",
   "toc_cell": false,
   "toc_position": {},
   "toc_section_display": true,
   "toc_window_display": false
  }
 },
 "nbformat": 4,
 "nbformat_minor": 2
}
